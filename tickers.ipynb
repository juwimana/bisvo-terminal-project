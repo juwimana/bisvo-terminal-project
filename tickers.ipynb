{
 "cells": [
  {
   "cell_type": "code",
   "execution_count": 1,
   "metadata": {},
   "outputs": [],
   "source": [
    "from selenium import webdriver\n",
    "from bs4 import BeautifulSoup as bs"
   ]
  },
  {
   "cell_type": "code",
   "execution_count": 148,
   "metadata": {},
   "outputs": [],
   "source": [
    "DRIVER_PATH = \"C:\\Windows\\chromedriver.exe\"\n",
    "driver = webdriver.Chrome(executable_path=DRIVER_PATH)\n",
    "driver.get('https://finance.yahoo.com/screener/unsaved/b6cecfea-338f-4d59-89a8-14d8fa0fa218?offset=0&count=100')"
   ]
  },
  {
   "cell_type": "code",
   "execution_count": 229,
   "metadata": {},
   "outputs": [],
   "source": [
    "tickers = []"
   ]
  },
  {
   "cell_type": "code",
   "execution_count": 217,
   "metadata": {},
   "outputs": [],
   "source": [
    "html= bs(driver.page_source,\"html.parser\")\n",
    "stocks = html.find_all('a',class_='Fw(600) C($linkColor)')\n",
    "for stock in stocks:\n",
    "    try:\n",
    "        tickers.append(stock.text)\n",
    "    except:\n",
    "        pass"
   ]
  },
  {
   "cell_type": "code",
   "execution_count": 233,
   "metadata": {},
   "outputs": [],
   "source": [
    "import time\n",
    "next_page = True \n",
    "while next_page:\n",
    "    #try:\n",
    "        \n",
    "    html= bs(driver.page_source,\"html.parser\")\n",
    "        \n",
    "    stocks = html.find_all('a',class_='Fw(600) C($linkColor)')\n",
    "       \n",
    "    for stock in stocks:\n",
    "        try:\n",
    "            tickers.append(stock.text)\n",
    "        except:\n",
    "            pass\n",
    "        \n",
    "    time.sleep(5)\n",
    "    next_button = driver.find_element_by_xpath('/html/body/div[1]/div/div/div[1]/div/div[2]/div/div/div[6]/section/div/div[2]/div[2]/button[3]/span/span')\n",
    "    next_button.click()\n",
    "        \n",
    "        \n",
    "#         stocks = html.find('tbody').find_all('tr')\n",
    "\n",
    "#         for stock in stocks:\n",
    "#             tickers.append(stock.td.a.text)\n",
    "    #except:\n",
    "    next_page = False"
   ]
  },
  {
   "cell_type": "code",
   "execution_count": 221,
   "metadata": {},
   "outputs": [],
   "source": [
    "import pandas as pd\n",
    "data = pd.DataFrame({'Indices':tickers})\n",
    "data = data.drop_duplicates()"
   ]
  },
  {
   "cell_type": "code",
   "execution_count": 224,
   "metadata": {},
   "outputs": [],
   "source": [
    "data.to_csv('canada_tickers.csv',index=False)"
   ]
  }
 ],
 "metadata": {
  "kernelspec": {
   "display_name": "Python 3",
   "language": "python",
   "name": "python3"
  },
  "language_info": {
   "codemirror_mode": {
    "name": "ipython",
    "version": 3
   },
   "file_extension": ".py",
   "mimetype": "text/x-python",
   "name": "python",
   "nbconvert_exporter": "python",
   "pygments_lexer": "ipython3",
   "version": "3.6.1"
  }
 },
 "nbformat": 4,
 "nbformat_minor": 4
}
