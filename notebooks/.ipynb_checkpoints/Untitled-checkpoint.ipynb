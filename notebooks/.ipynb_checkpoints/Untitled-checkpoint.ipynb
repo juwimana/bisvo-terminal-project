{
 "cells": [
  {
   "cell_type": "code",
   "execution_count": 12,
   "metadata": {},
   "outputs": [],
   "source": [
    "import requests\n",
    "from scipy import stats\n",
    "import pandas as pd"
   ]
  },
  {
   "cell_type": "code",
   "execution_count": 13,
   "metadata": {},
   "outputs": [],
   "source": [
    "IEX_CLOUD_API_TOKEN = 'Tpk_621626e278f34ee9b6a58f1441efca27' "
   ]
  },
  {
   "cell_type": "code",
   "execution_count": 9,
   "metadata": {},
   "outputs": [
    {
     "name": "stdout",
     "output_type": "stream",
     "text": [
      "{'symbol': 'AAPL', 'companyName': 'Apple Inc', 'primaryExchange': 'DAMEASLQ)A/GBKRT CETE LNSLANG (SO', 'calculationPrice': 'iexlasttrade', 'open': None, 'openTime': None, 'openSource': 'ffcliioa', 'close': None, 'closeTime': None, 'closeSource': 'aiflfcio', 'high': None, 'highTime': None, 'highSource': None, 'low': None, 'lowTime': None, 'lowSource': None, 'latestPrice': 125.11, 'latestSource': 'IEX Last Trade', 'latestTime': 'December 8, 2020', 'latestUpdate': 1654514544920, 'latestVolume': None, 'iexRealtimePrice': 128.22, 'iexRealtimeSize': 20, 'iexLastUpdated': 1656770736877, 'delayedPrice': None, 'delayedPriceTime': None, 'oddLotDelayedPrice': None, 'oddLotDelayedPriceTime': None, 'extendedPrice': None, 'extendedChange': None, 'extendedChangePercent': None, 'extendedPriceTime': None, 'previousClose': 125.4, 'previousVolume': 86741173, 'change': 0.69, 'changePercent': 0.00564, 'volume': None, 'iexMarketPercent': 0.014079875515439247, 'iexVolume': 1169601, 'avgTotalVolume': 102978294, 'iexBidPrice': 0, 'iexBidSize': 0, 'iexAskPrice': 0, 'iexAskSize': 0, 'iexOpen': 128.61, 'iexOpenTime': 1636214318665, 'iexClose': 128.09, 'iexCloseTime': 1660380849009, 'marketCap': 2171219869367, 'peRatio': 38.28, 'week52High': 137.99, 'week52Low': 58.35, 'ytdChange': 0.7330157095431094, 'lastTradeTime': 1609114235527, 'isUSMarketOpen': False}\n"
     ]
    }
   ],
   "source": [
    "symbol = 'AAPL'\n",
    "app_url = f'https://sandbox.iexapis.com/stable/stock/{symbol}/quote?token={IEX_CLOUD_API_TOKEN}'\n",
    "data = requests.get(app_url).json()\n",
    "print(data)"
   ]
  },
  {
   "cell_type": "code",
   "execution_count": 30,
   "metadata": {},
   "outputs": [],
   "source": [
    "collectionType = 'Technology'\n",
    "app_2_url = f'https://cloud.iexapis.com/stable/stock/{symbol}/market/collection?token={IEX_CLOUD_API_TOKEN}'"
   ]
  },
  {
   "cell_type": "code",
   "execution_count": 31,
   "metadata": {},
   "outputs": [
    {
     "name": "stdout",
     "output_type": "stream",
     "text": [
      "<Response [403]>\n"
     ]
    }
   ],
   "source": [
    "data_2 = requests.get(app_2_url)\n",
    "print(data_2)"
   ]
  },
  {
   "cell_type": "code",
   "execution_count": 32,
   "metadata": {},
   "outputs": [],
   "source": [
    "from pandas_datareader import data as web"
   ]
  },
  {
   "cell_type": "code",
   "execution_count": 33,
   "metadata": {},
   "outputs": [],
   "source": [
    "df = web.get_quote_yahoo('AAPL')"
   ]
  },
  {
   "cell_type": "code",
   "execution_count": 38,
   "metadata": {},
   "outputs": [
    {
     "data": {
      "text/html": [
       "<div>\n",
       "<style scoped>\n",
       "    .dataframe tbody tr th:only-of-type {\n",
       "        vertical-align: middle;\n",
       "    }\n",
       "\n",
       "    .dataframe tbody tr th {\n",
       "        vertical-align: top;\n",
       "    }\n",
       "\n",
       "    .dataframe thead th {\n",
       "        text-align: right;\n",
       "    }\n",
       "</style>\n",
       "<table border=\"1\" class=\"dataframe\">\n",
       "  <thead>\n",
       "    <tr style=\"text-align: right;\">\n",
       "      <th></th>\n",
       "      <th>language</th>\n",
       "      <th>region</th>\n",
       "      <th>quoteType</th>\n",
       "      <th>quoteSourceName</th>\n",
       "      <th>triggerable</th>\n",
       "      <th>epsTrailingTwelveMonths</th>\n",
       "      <th>epsForward</th>\n",
       "      <th>epsCurrentYear</th>\n",
       "      <th>priceEpsCurrentYear</th>\n",
       "      <th>sharesOutstanding</th>\n",
       "      <th>...</th>\n",
       "      <th>fiftyTwoWeekHigh</th>\n",
       "      <th>dividendDate</th>\n",
       "      <th>earningsTimestamp</th>\n",
       "      <th>earningsTimestampStart</th>\n",
       "      <th>earningsTimestampEnd</th>\n",
       "      <th>trailingAnnualDividendRate</th>\n",
       "      <th>trailingPE</th>\n",
       "      <th>trailingAnnualDividendYield</th>\n",
       "      <th>displayName</th>\n",
       "      <th>price</th>\n",
       "    </tr>\n",
       "  </thead>\n",
       "  <tbody>\n",
       "    <tr>\n",
       "      <th>AAPL</th>\n",
       "      <td>en-US</td>\n",
       "      <td>US</td>\n",
       "      <td>EQUITY</td>\n",
       "      <td>Nasdaq Real Time Price</td>\n",
       "      <td>True</td>\n",
       "      <td>3.28</td>\n",
       "      <td>4.33</td>\n",
       "      <td>3.96</td>\n",
       "      <td>31.40909</td>\n",
       "      <td>17102499840</td>\n",
       "      <td>...</td>\n",
       "      <td>137.98</td>\n",
       "      <td>1605139200</td>\n",
       "      <td>1603989000</td>\n",
       "      <td>1611658740</td>\n",
       "      <td>1612180800</td>\n",
       "      <td>0.795</td>\n",
       "      <td>37.92073</td>\n",
       "      <td>0.006424</td>\n",
       "      <td>Apple</td>\n",
       "      <td>124.38</td>\n",
       "    </tr>\n",
       "  </tbody>\n",
       "</table>\n",
       "<p>1 rows × 74 columns</p>\n",
       "</div>"
      ],
      "text/plain": [
       "     language region quoteType         quoteSourceName  triggerable  \\\n",
       "AAPL    en-US     US    EQUITY  Nasdaq Real Time Price         True   \n",
       "\n",
       "      epsTrailingTwelveMonths  epsForward  epsCurrentYear  \\\n",
       "AAPL                     3.28        4.33            3.96   \n",
       "\n",
       "      priceEpsCurrentYear  sharesOutstanding  ...  fiftyTwoWeekHigh  \\\n",
       "AAPL             31.40909        17102499840  ...            137.98   \n",
       "\n",
       "      dividendDate  earningsTimestamp  earningsTimestampStart  \\\n",
       "AAPL    1605139200         1603989000              1611658740   \n",
       "\n",
       "      earningsTimestampEnd  trailingAnnualDividendRate  trailingPE  \\\n",
       "AAPL            1612180800                       0.795    37.92073   \n",
       "\n",
       "      trailingAnnualDividendYield  displayName   price  \n",
       "AAPL                     0.006424        Apple  124.38  \n",
       "\n",
       "[1 rows x 74 columns]"
      ]
     },
     "execution_count": 38,
     "metadata": {},
     "output_type": "execute_result"
    }
   ],
   "source": [
    "df"
   ]
  },
  {
   "cell_type": "code",
   "execution_count": 39,
   "metadata": {},
   "outputs": [],
   "source": [
    "import yfinance as yf"
   ]
  },
  {
   "cell_type": "code",
   "execution_count": 108,
   "metadata": {},
   "outputs": [],
   "source": [
    "stock = yf.Ticker('AMD')"
   ]
  },
  {
   "cell_type": "code",
   "execution_count": 109,
   "metadata": {},
   "outputs": [
    {
     "data": {
      "text/plain": [
       "'Technology'"
      ]
     },
     "execution_count": 109,
     "metadata": {},
     "output_type": "execute_result"
    }
   ],
   "source": [
    "stock.info['sector']"
   ]
  },
  {
   "cell_type": "code",
   "execution_count": 110,
   "metadata": {},
   "outputs": [
    {
     "data": {
      "text/plain": [
       "{'zip': '95054',\n",
       " 'sector': 'Technology',\n",
       " 'fullTimeEmployees': 11400,\n",
       " 'longBusinessSummary': 'Advanced Micro Devices, Inc. operates as a semiconductor company worldwide. The company operates in two segments, Computing and Graphics; and Enterprise, Embedded and Semi-Custom. Its products include x86 microprocessors as an accelerated processing unit, chipsets, discrete and integrated graphics processing units (GPUs), data center and professional GPUs, and development services; and server and embedded processors, and semi-custom System-on-Chip (SoC) products, development services, and technology for game consoles. The company provides x86 microprocessors for desktop PCs under the AMD Ryzen, AMD Ryzen PRO, Ryzen, Threadripper, AMD A-Series, AMD FX, AMD Athlon, AMD Athlon PRO, and AMD Pro A-Series processors brands; microprocessors for notebook and 2-in-1s under the AMD Ryzen processors with Radeon Vega GPUs, AMD A-Series, AMD Athlon, AMD Ryzen PRO, and AMD Pro A-Series processors brands; microprocessors for servers under the AMD EPYC and AMD Opteron brands; and chipsets under the AMD trademark. It also offers discrete GPUs for desktop and notebook PCs under the AMD Radeon graphics and AMD Embedded Radeon brands; professional graphics products under the AMD Radeon Pro and AMD FirePro graphics brands; and Radeon Instinct accelerators for servers. In addition, the company provides embedded processor solutions for interactive digital signage, casino gaming, and medical imaging under the AMD Opteron, AMD Athlon, AMD Geode, AMD Ryzen, AMD EPYC, AMD R-Series, and G-Series processors brands; and customer-specific solutions based on AMD CPU, GPU, and multi-media technologies, as well as semi-custom SoC products. It serves original equipment and design manufacturers, datacenters, original design manufacturers, system integrators, independent distributors, online retailers, and add-in-board manufacturers through its direct sales force, independent distributors, and sales representatives. The company was founded in 1969 and is headquartered in Santa Clara, California.',\n",
       " 'city': 'Santa Clara',\n",
       " 'phone': '408 749 4000',\n",
       " 'state': 'CA',\n",
       " 'country': 'United States',\n",
       " 'companyOfficers': [],\n",
       " 'website': 'http://www.amd.com',\n",
       " 'maxAge': 1,\n",
       " 'address1': '2485 Augustine Drive',\n",
       " 'industry': 'Semiconductors',\n",
       " 'previousClose': 94.07,\n",
       " 'regularMarketOpen': 94.05,\n",
       " 'twoHundredDayAverage': 73.44102,\n",
       " 'trailingAnnualDividendYield': None,\n",
       " 'payoutRatio': 0,\n",
       " 'volume24Hr': None,\n",
       " 'regularMarketDayHigh': 94.74,\n",
       " 'navPrice': None,\n",
       " 'averageDailyVolume10Day': 53723833,\n",
       " 'totalAssets': None,\n",
       " 'regularMarketPreviousClose': 94.07,\n",
       " 'fiftyDayAverage': 83.59057,\n",
       " 'trailingAnnualDividendRate': None,\n",
       " 'open': 94.05,\n",
       " 'toCurrency': None,\n",
       " 'averageVolume10days': 53723833,\n",
       " 'expireDate': None,\n",
       " 'yield': None,\n",
       " 'algorithm': None,\n",
       " 'dividendRate': None,\n",
       " 'exDividendDate': 798940800,\n",
       " 'beta': 2.267191,\n",
       " 'circulatingSupply': None,\n",
       " 'startDate': None,\n",
       " 'regularMarketDayLow': 91.9,\n",
       " 'priceHint': 2,\n",
       " 'currency': 'USD',\n",
       " 'trailingPE': 125.90786,\n",
       " 'regularMarketVolume': 33907510,\n",
       " 'lastMarket': None,\n",
       " 'maxSupply': None,\n",
       " 'openInterest': None,\n",
       " 'marketCap': 111882182656,\n",
       " 'volumeAllCurrencies': None,\n",
       " 'strikePrice': None,\n",
       " 'averageVolume': 50286179,\n",
       " 'priceToSalesTrailing12Months': 12.940341,\n",
       " 'dayLow': 91.9,\n",
       " 'ask': 93.08,\n",
       " 'ytdReturn': None,\n",
       " 'askSize': 1000,\n",
       " 'volume': 33907510,\n",
       " 'fiftyTwoWeekHigh': 96.37,\n",
       " 'forwardPE': 50.775955,\n",
       " 'fromCurrency': None,\n",
       " 'fiveYearAvgDividendYield': None,\n",
       " 'fiftyTwoWeekLow': 36.75,\n",
       " 'bid': 92.95,\n",
       " 'tradeable': False,\n",
       " 'dividendYield': None,\n",
       " 'bidSize': 900,\n",
       " 'dayHigh': 94.74,\n",
       " 'exchange': 'NMS',\n",
       " 'shortName': 'Advanced Micro Devices, Inc.',\n",
       " 'longName': 'Advanced Micro Devices, Inc.',\n",
       " 'exchangeTimezoneName': 'America/New_York',\n",
       " 'exchangeTimezoneShortName': 'EST',\n",
       " 'isEsgPopulated': False,\n",
       " 'gmtOffSetMilliseconds': '-18000000',\n",
       " 'quoteType': 'EQUITY',\n",
       " 'symbol': 'AMD',\n",
       " 'messageBoardId': 'finmb_168864',\n",
       " 'market': 'us_market',\n",
       " 'annualHoldingsTurnover': None,\n",
       " 'enterpriseToRevenue': 12.948,\n",
       " 'beta3Year': None,\n",
       " 'profitMargins': 0.101660006,\n",
       " 'enterpriseToEbitda': 78.12,\n",
       " '52WeekChange': 1.3851421,\n",
       " 'morningStarRiskRating': None,\n",
       " 'forwardEps': 1.83,\n",
       " 'revenueQuarterlyGrowth': None,\n",
       " 'sharesOutstanding': 1204070016,\n",
       " 'fundInceptionDate': None,\n",
       " 'annualReportExpenseRatio': None,\n",
       " 'bookValue': 3.217,\n",
       " 'sharesShort': 60099237,\n",
       " 'sharesPercentSharesOut': 0.05,\n",
       " 'fundFamily': None,\n",
       " 'lastFiscalYearEnd': 1577491200,\n",
       " 'heldPercentInstitutions': 0.73908997,\n",
       " 'netIncomeToCommon': 879000000,\n",
       " 'trailingEps': 0.738,\n",
       " 'lastDividendValue': None,\n",
       " 'SandP52WeekChange': 0.17859101,\n",
       " 'priceToBook': 28.884052,\n",
       " 'heldPercentInsiders': 0.0062,\n",
       " 'nextFiscalYearEnd': 1640649600,\n",
       " 'mostRecentQuarter': 1601078400,\n",
       " 'shortRatio': 1.16,\n",
       " 'sharesShortPreviousMonthDate': 1602720000,\n",
       " 'floatShares': 1194268602,\n",
       " 'enterpriseValue': 111946080256,\n",
       " 'threeYearAverageReturn': None,\n",
       " 'lastSplitDate': 966902400,\n",
       " 'lastSplitFactor': '2:1',\n",
       " 'legalType': None,\n",
       " 'lastDividendDate': None,\n",
       " 'morningStarOverallRating': None,\n",
       " 'earningsQuarterlyGrowth': 2.25,\n",
       " 'dateShortInterest': 1605225600,\n",
       " 'pegRatio': 2,\n",
       " 'lastCapGain': None,\n",
       " 'shortPercentOfFloat': 0.050300002,\n",
       " 'sharesShortPriorMonth': 26672404,\n",
       " 'impliedSharesOutstanding': None,\n",
       " 'category': None,\n",
       " 'fiveYearAverageReturn': None,\n",
       " 'regularMarketPrice': 94.05,\n",
       " 'logo_url': 'https://logo.clearbit.com/amd.com'}"
      ]
     },
     "execution_count": 110,
     "metadata": {},
     "output_type": "execute_result"
    }
   ],
   "source": [
    "stock.info"
   ]
  },
  {
   "cell_type": "code",
   "execution_count": 111,
   "metadata": {},
   "outputs": [],
   "source": [
    "stocks = pd.read_csv('my_portfolio.csv')"
   ]
  },
  {
   "cell_type": "code",
   "execution_count": 112,
   "metadata": {},
   "outputs": [
    {
     "data": {
      "text/plain": [
       "array(['AMD', 'CLDR', 'DELL', 'NYFT', 'PBW', 'PYPL', 'SQ', 'XBC.V'],\n",
       "      dtype=object)"
      ]
     },
     "execution_count": 112,
     "metadata": {},
     "output_type": "execute_result"
    }
   ],
   "source": [
    "stocks['Ticker'].values"
   ]
  },
  {
   "cell_type": "code",
   "execution_count": 196,
   "metadata": {},
   "outputs": [],
   "source": [
    "# Function sourced from \n",
    "# https://stackoverflow.com/questions/312443/how-do-you-split-a-list-into-evenly-sized-chunks\n",
    "def chunks(lst, n):\n",
    "    \"\"\"Yield successive n-sized chunks from lst.\"\"\"\n",
    "    for i in range(0, len(lst), n):\n",
    "        yield lst[i:i + n]   \n",
    "        \n",
    "symbol_groups = list(chunks(stocks['Ticker'], 100))\n",
    "symbol_strings = []\n",
    "for i in range(0, len(symbol_groups)):\n",
    "    symbol_strings.append(','.join(symbol_groups[i]))\n",
    "\n",
    "columns = [\n",
    "    'Ticker',\n",
    "    'Sector',\n",
    "    'Current Price',\n",
    "    'Average Purchase Price Per Share',\n",
    "    'Total Number of Shares',\n",
    "    'Total Cost',\n",
    "    'Current Value',\n",
    "    'Dollar Return',\n",
    "    'Percent Return'\n",
    "]"
   ]
  },
  {
   "cell_type": "code",
   "execution_count": 197,
   "metadata": {},
   "outputs": [],
   "source": [
    "import numpy as np\n",
    "portfolio_df = pd.DataFrame(columns=columns)\n",
    "\n",
    "for symbol_string in symbol_strings:\n",
    "    batch_api_call_url = f'https://sandbox.iexapis.com/stable/stock/market/batch?symbols={symbol_string}&types=quote,advanced-stats&token={IEX_CLOUD_API_TOKEN}'\n",
    "    data = requests.get(batch_api_call_url).json()\n",
    "    for symbol in symbol_string.split(','):\n",
    "        try:\n",
    "            stock = yf.Ticker(symbol)\n",
    "            try:\n",
    "                latestPrice = data[symbol]['quote']['latestPrice']\n",
    "            except TypeError:\n",
    "                latestPrice = np.NaN\n",
    "            try:\n",
    "                sector = stock.info['sector']\n",
    "            except:\n",
    "                sector = np.NaN\n",
    "            portfolio_df = portfolio_df.append(\n",
    "                pd.Series(\n",
    "                [\n",
    "                    symbol,\n",
    "                    sector,\n",
    "                    latestPrice,\n",
    "                    0.0,\n",
    "                    0,\n",
    "                    0.0,\n",
    "                    0.0,\n",
    "                    0.0,\n",
    "                    0.0\n",
    "                ],\n",
    "                index = columns),\n",
    "                ignore_index = True\n",
    "                )\n",
    "        except KeyError:\n",
    "            pass"
   ]
  },
  {
   "cell_type": "code",
   "execution_count": 199,
   "metadata": {},
   "outputs": [],
   "source": [
    "portfolio_df.to_csv('portfolio.csv',index=False)"
   ]
  },
  {
   "cell_type": "code",
   "execution_count": 116,
   "metadata": {},
   "outputs": [
    {
     "data": {
      "text/html": [
       "<div>\n",
       "<style scoped>\n",
       "    .dataframe tbody tr th:only-of-type {\n",
       "        vertical-align: middle;\n",
       "    }\n",
       "\n",
       "    .dataframe tbody tr th {\n",
       "        vertical-align: top;\n",
       "    }\n",
       "\n",
       "    .dataframe thead th {\n",
       "        text-align: right;\n",
       "    }\n",
       "</style>\n",
       "<table border=\"1\" class=\"dataframe\">\n",
       "  <thead>\n",
       "    <tr style=\"text-align: right;\">\n",
       "      <th></th>\n",
       "      <th>Sector</th>\n",
       "      <th>Current Price</th>\n",
       "      <th>Average Purchase Price Per Share</th>\n",
       "      <th>Total Number of Shares</th>\n",
       "      <th>Total Cost</th>\n",
       "      <th>Current Value</th>\n",
       "      <th>Dollar Return</th>\n",
       "      <th>Percent Return</th>\n",
       "    </tr>\n",
       "    <tr>\n",
       "      <th>Ticker</th>\n",
       "      <th></th>\n",
       "      <th></th>\n",
       "      <th></th>\n",
       "      <th></th>\n",
       "      <th></th>\n",
       "      <th></th>\n",
       "      <th></th>\n",
       "      <th></th>\n",
       "    </tr>\n",
       "  </thead>\n",
       "  <tbody>\n",
       "    <tr>\n",
       "      <th>AMD</th>\n",
       "      <td>Technology</td>\n",
       "      <td>94.94</td>\n",
       "      <td>0.0</td>\n",
       "      <td>0</td>\n",
       "      <td>0.0</td>\n",
       "      <td>0.0</td>\n",
       "      <td>0.0</td>\n",
       "      <td>0.0</td>\n",
       "    </tr>\n",
       "    <tr>\n",
       "      <th>CLDR</th>\n",
       "      <td>Technology</td>\n",
       "      <td>12.87</td>\n",
       "      <td>0.0</td>\n",
       "      <td>0</td>\n",
       "      <td>0.0</td>\n",
       "      <td>0.0</td>\n",
       "      <td>0.0</td>\n",
       "      <td>0.0</td>\n",
       "    </tr>\n",
       "    <tr>\n",
       "      <th>DELL</th>\n",
       "      <td>Technology</td>\n",
       "      <td>72.63</td>\n",
       "      <td>0.0</td>\n",
       "      <td>0</td>\n",
       "      <td>0.0</td>\n",
       "      <td>0.0</td>\n",
       "      <td>0.0</td>\n",
       "      <td>0.0</td>\n",
       "    </tr>\n",
       "    <tr>\n",
       "      <th>PBW</th>\n",
       "      <td>NaN</td>\n",
       "      <td>96.48</td>\n",
       "      <td>0.0</td>\n",
       "      <td>0</td>\n",
       "      <td>0.0</td>\n",
       "      <td>0.0</td>\n",
       "      <td>0.0</td>\n",
       "      <td>0.0</td>\n",
       "    </tr>\n",
       "    <tr>\n",
       "      <th>PYPL</th>\n",
       "      <td>Financial Services</td>\n",
       "      <td>223.50</td>\n",
       "      <td>0.0</td>\n",
       "      <td>0</td>\n",
       "      <td>0.0</td>\n",
       "      <td>0.0</td>\n",
       "      <td>0.0</td>\n",
       "      <td>0.0</td>\n",
       "    </tr>\n",
       "    <tr>\n",
       "      <th>SQ</th>\n",
       "      <td>Technology</td>\n",
       "      <td>216.52</td>\n",
       "      <td>0.0</td>\n",
       "      <td>0</td>\n",
       "      <td>0.0</td>\n",
       "      <td>0.0</td>\n",
       "      <td>0.0</td>\n",
       "      <td>0.0</td>\n",
       "    </tr>\n",
       "  </tbody>\n",
       "</table>\n",
       "</div>"
      ],
      "text/plain": [
       "                    Sector  Current Price  Average Purchase Price Per Share  \\\n",
       "Ticker                                                                        \n",
       "AMD             Technology          94.94                               0.0   \n",
       "CLDR            Technology          12.87                               0.0   \n",
       "DELL            Technology          72.63                               0.0   \n",
       "PBW                    NaN          96.48                               0.0   \n",
       "PYPL    Financial Services         223.50                               0.0   \n",
       "SQ              Technology         216.52                               0.0   \n",
       "\n",
       "       Total Number of Shares  Total Cost  Current Value  Dollar Return  \\\n",
       "Ticker                                                                    \n",
       "AMD                         0         0.0            0.0            0.0   \n",
       "CLDR                        0         0.0            0.0            0.0   \n",
       "DELL                        0         0.0            0.0            0.0   \n",
       "PBW                         0         0.0            0.0            0.0   \n",
       "PYPL                        0         0.0            0.0            0.0   \n",
       "SQ                          0         0.0            0.0            0.0   \n",
       "\n",
       "        Percent Return  \n",
       "Ticker                  \n",
       "AMD                0.0  \n",
       "CLDR               0.0  \n",
       "DELL               0.0  \n",
       "PBW                0.0  \n",
       "PYPL               0.0  \n",
       "SQ                 0.0  "
      ]
     },
     "execution_count": 116,
     "metadata": {},
     "output_type": "execute_result"
    }
   ],
   "source": [
    "portfolio_df = portfolio_df.set_index('Ticker')\n",
    "portfolio_df"
   ]
  },
  {
   "cell_type": "code",
   "execution_count": 120,
   "metadata": {},
   "outputs": [
    {
     "name": "stdin",
     "output_type": "stream",
     "text": [
      "Enter the purchase price of your stock: 83.3767\n"
     ]
    }
   ],
   "source": [
    "buy_price = input(\"Enter the purchase price of your stock:\")\n",
    "try:\n",
    "    val_price = float(buy_price) \n",
    "except ValueError:\n",
    "    print(\"That's not a number! \\nPlease try again: \")\n",
    "    buy_price = input(\"Enter the purchase price of your stock:\")\n",
    "    val_price = float(buy_price)"
   ]
  },
  {
   "cell_type": "code",
   "execution_count": 121,
   "metadata": {},
   "outputs": [
    {
     "name": "stdin",
     "output_type": "stream",
     "text": [
      "Enter the number of shares bought: 2\n"
     ]
    }
   ],
   "source": [
    "number_of_shares = input(\"Enter the number of shares bought:\")\n",
    "try:\n",
    "    val_shares = int(number_of_shares) \n",
    "except ValueError:\n",
    "    print(\"That's not a integer! \\nPlease try again: \")\n",
    "    number_of_shares = input(\"Enter the number of shares bought:\")\n",
    "    val = float(number_of_shares)"
   ]
  },
  {
   "cell_type": "code",
   "execution_count": 122,
   "metadata": {},
   "outputs": [
    {
     "data": {
      "text/html": [
       "<div>\n",
       "<style scoped>\n",
       "    .dataframe tbody tr th:only-of-type {\n",
       "        vertical-align: middle;\n",
       "    }\n",
       "\n",
       "    .dataframe tbody tr th {\n",
       "        vertical-align: top;\n",
       "    }\n",
       "\n",
       "    .dataframe thead th {\n",
       "        text-align: right;\n",
       "    }\n",
       "</style>\n",
       "<table border=\"1\" class=\"dataframe\">\n",
       "  <thead>\n",
       "    <tr style=\"text-align: right;\">\n",
       "      <th></th>\n",
       "      <th>Sector</th>\n",
       "      <th>Current Price</th>\n",
       "      <th>Average Purchase Price Per Share</th>\n",
       "      <th>Total Number of Shares</th>\n",
       "      <th>Total Cost</th>\n",
       "      <th>Current Value</th>\n",
       "      <th>Dollar Return</th>\n",
       "      <th>Percent Return</th>\n",
       "    </tr>\n",
       "    <tr>\n",
       "      <th>Ticker</th>\n",
       "      <th></th>\n",
       "      <th></th>\n",
       "      <th></th>\n",
       "      <th></th>\n",
       "      <th></th>\n",
       "      <th></th>\n",
       "      <th></th>\n",
       "      <th></th>\n",
       "    </tr>\n",
       "  </thead>\n",
       "  <tbody>\n",
       "    <tr>\n",
       "      <th>AMD</th>\n",
       "      <td>Technology</td>\n",
       "      <td>94.94</td>\n",
       "      <td>84.871914</td>\n",
       "      <td>7</td>\n",
       "      <td>594.1034</td>\n",
       "      <td>664.58</td>\n",
       "      <td>70.4766</td>\n",
       "      <td>11.86</td>\n",
       "    </tr>\n",
       "    <tr>\n",
       "      <th>CLDR</th>\n",
       "      <td>Technology</td>\n",
       "      <td>12.87</td>\n",
       "      <td>84.871914</td>\n",
       "      <td>7</td>\n",
       "      <td>594.1034</td>\n",
       "      <td>90.09</td>\n",
       "      <td>-504.0134</td>\n",
       "      <td>-84.84</td>\n",
       "    </tr>\n",
       "    <tr>\n",
       "      <th>DELL</th>\n",
       "      <td>Technology</td>\n",
       "      <td>72.63</td>\n",
       "      <td>84.871914</td>\n",
       "      <td>7</td>\n",
       "      <td>594.1034</td>\n",
       "      <td>508.41</td>\n",
       "      <td>-85.6934</td>\n",
       "      <td>-14.42</td>\n",
       "    </tr>\n",
       "    <tr>\n",
       "      <th>PBW</th>\n",
       "      <td>NaN</td>\n",
       "      <td>96.48</td>\n",
       "      <td>84.871914</td>\n",
       "      <td>7</td>\n",
       "      <td>594.1034</td>\n",
       "      <td>675.36</td>\n",
       "      <td>81.2566</td>\n",
       "      <td>13.68</td>\n",
       "    </tr>\n",
       "    <tr>\n",
       "      <th>PYPL</th>\n",
       "      <td>Financial Services</td>\n",
       "      <td>223.50</td>\n",
       "      <td>84.871914</td>\n",
       "      <td>7</td>\n",
       "      <td>594.1034</td>\n",
       "      <td>1564.50</td>\n",
       "      <td>970.3966</td>\n",
       "      <td>163.34</td>\n",
       "    </tr>\n",
       "    <tr>\n",
       "      <th>SQ</th>\n",
       "      <td>Technology</td>\n",
       "      <td>216.52</td>\n",
       "      <td>84.871914</td>\n",
       "      <td>7</td>\n",
       "      <td>594.1034</td>\n",
       "      <td>1515.64</td>\n",
       "      <td>921.5366</td>\n",
       "      <td>155.11</td>\n",
       "    </tr>\n",
       "  </tbody>\n",
       "</table>\n",
       "</div>"
      ],
      "text/plain": [
       "                    Sector  Current Price  Average Purchase Price Per Share  \\\n",
       "Ticker                                                                        \n",
       "AMD             Technology          94.94                         84.871914   \n",
       "CLDR            Technology          12.87                         84.871914   \n",
       "DELL            Technology          72.63                         84.871914   \n",
       "PBW                    NaN          96.48                         84.871914   \n",
       "PYPL    Financial Services         223.50                         84.871914   \n",
       "SQ              Technology         216.52                         84.871914   \n",
       "\n",
       "        Total Number of Shares  Total Cost  Current Value  Dollar Return  \\\n",
       "Ticker                                                                     \n",
       "AMD                          7    594.1034         664.58        70.4766   \n",
       "CLDR                         7    594.1034          90.09      -504.0134   \n",
       "DELL                         7    594.1034         508.41       -85.6934   \n",
       "PBW                          7    594.1034         675.36        81.2566   \n",
       "PYPL                         7    594.1034        1564.50       970.3966   \n",
       "SQ                           7    594.1034        1515.64       921.5366   \n",
       "\n",
       "        Percent Return  \n",
       "Ticker                  \n",
       "AMD              11.86  \n",
       "CLDR            -84.84  \n",
       "DELL            -14.42  \n",
       "PBW              13.68  \n",
       "PYPL            163.34  \n",
       "SQ              155.11  "
      ]
     },
     "execution_count": 122,
     "metadata": {},
     "output_type": "execute_result"
    }
   ],
   "source": [
    "import math\n",
    "for ticker in portfolio_df.index:\n",
    "    portfolio_df.loc[ticker,\"Average Purchase Price Per Share\"] = ((portfolio_df.loc[ticker,\"Average Purchase Price Per Share\"] * portfolio_df.loc[ticker,\"Total Number of Shares\"]) + \n",
    "                                                                    (val_price * val_shares))/ (portfolio_df.loc[ticker,\"Total Number of Shares\"] + val_shares)\n",
    "    portfolio_df.loc[ticker,\"Total Number of Shares\"] += val_shares\n",
    "    portfolio_df.loc[ticker,\"Total Cost\"] += val_price * val_shares\n",
    "    portfolio_df.loc[ticker,\"Current Value\"] = portfolio_df.loc[ticker,\"Total Number of Shares\"] * portfolio_df.loc[ticker,\"Current Price\"]\n",
    "    portfolio_df.loc[ticker,\"Dollar Return\"] = portfolio_df.loc[ticker,\"Current Value\"] - portfolio_df.loc[ticker,\"Total Cost\"]\n",
    "    portfolio_df.loc[ticker,\"Percent Return\"] = round((portfolio_df.loc[ticker,\"Dollar Return\"] / portfolio_df.loc[ticker,\"Total Cost\"])*100,2)\n",
    "portfolio_df"
   ]
  },
  {
   "cell_type": "code",
   "execution_count": 170,
   "metadata": {},
   "outputs": [
    {
     "data": {
      "text/plain": [
       "['Technology', nan, 'Financial Services']"
      ]
     },
     "execution_count": 170,
     "metadata": {},
     "output_type": "execute_result"
    }
   ],
   "source": [
    "list(portfolio_df['Sector'].unique())"
   ]
  },
  {
   "cell_type": "code",
   "execution_count": 168,
   "metadata": {},
   "outputs": [
    {
     "data": {
      "text/plain": [
       "Sector\n",
       "Financial Services    1564.50\n",
       "Technology            2778.72\n",
       "Unknown                675.36\n",
       "Name: Current Value, dtype: float64"
      ]
     },
     "execution_count": 168,
     "metadata": {},
     "output_type": "execute_result"
    }
   ],
   "source": [
    "portfolio_df.fillna('Unknown').groupby(by=[\"Sector\"])['Current Value'].sum()"
   ]
  },
  {
   "cell_type": "code",
   "execution_count": 145,
   "metadata": {},
   "outputs": [
    {
     "data": {
      "text/plain": [
       "['bmh',\n",
       " 'classic',\n",
       " 'dark_background',\n",
       " 'fast',\n",
       " 'fivethirtyeight',\n",
       " 'ggplot',\n",
       " 'grayscale',\n",
       " 'seaborn-bright',\n",
       " 'seaborn-colorblind',\n",
       " 'seaborn-dark-palette',\n",
       " 'seaborn-dark',\n",
       " 'seaborn-darkgrid',\n",
       " 'seaborn-deep',\n",
       " 'seaborn-muted',\n",
       " 'seaborn-notebook',\n",
       " 'seaborn-paper',\n",
       " 'seaborn-pastel',\n",
       " 'seaborn-poster',\n",
       " 'seaborn-talk',\n",
       " 'seaborn-ticks',\n",
       " 'seaborn-white',\n",
       " 'seaborn-whitegrid',\n",
       " 'seaborn',\n",
       " 'Solarize_Light2',\n",
       " 'tableau-colorblind10',\n",
       " '_classic_test']"
      ]
     },
     "execution_count": 145,
     "metadata": {},
     "output_type": "execute_result"
    }
   ],
   "source": [
    "plt.style.available"
   ]
  },
  {
   "cell_type": "code",
   "execution_count": 184,
   "metadata": {},
   "outputs": [
    {
     "data": {
      "image/png": "[encoded data removed]",
      "text/plain": [
       "<Figure size 1600x800 with 1 Axes>"
      ]
     },
     "metadata": {},
     "output_type": "display_data"
    }
   ],
   "source": [
    "import matplotlib.pyplot as plt\n",
    "plt.style.use('fivethirtyeight')\n",
    "###Visualization of Portfolio\n",
    "slices = portfolio_df.fillna('Unknown').groupby(by=[\"Sector\"])['Current Value'].sum()\n",
    "labels = sorted(list(portfolio_df['Sector'].fillna('Unknown').astype('str').unique()))\n",
    "title = 'Sector Portfolio Diversification'\n",
    "\n",
    "fig, ax = plt.subplots(figsize= (20,10))\n",
    "ax.pie(slices, labels=labels, shadow=True, startangle=90,autopct='%1.1f%%')\n",
    "ax.set_title(title);"
   ]
  },
  {
   "cell_type": "code",
   "execution_count": 195,
   "metadata": {},
   "outputs": [
    {
     "data": {
      "image/png": "[encoded data removed]",
      "text/plain": [
       "<Figure size 1600x800 with 1 Axes>"
      ]
     },
     "metadata": {},
     "output_type": "display_data"
    }
   ],
   "source": [
    "fig, ax = plt.subplots(figsize = (20,10))\n",
    "labels = portfolio_df.index\n",
    "total_gain_loss = portfolio_df['Dollar Return']\n",
    "cost = portfolio_df['Total Cost']\n",
    "\n",
    "ax.bar(labels,total_gain_loss,width=0.2,align='center',label='Total Gain/Loss')\n",
    "ax.bar(labels,cost,0.2,align='center',label='Cost')\n",
    "ax.set_xlabel('Ticker')\n",
    "ax.set_ylabel('$ Gain\\Loss');"
   ]
  },
  {
   "cell_type": "code",
   "execution_count": null,
   "metadata": {},
   "outputs": [],
   "source": []
  }
 ],
 "metadata": {
  "kernelspec": {
   "display_name": "Python 3",
   "language": "python",
   "name": "python3"
  },
  "language_info": {
   "codemirror_mode": {
    "name": "ipython",
    "version": 3
   },
   "file_extension": ".py",
   "mimetype": "text/x-python",
   "name": "python",
   "nbconvert_exporter": "python",
   "pygments_lexer": "ipython3",
   "version": "3.6.1"
  }
 },
 "nbformat": 4,
 "nbformat_minor": 4
}
