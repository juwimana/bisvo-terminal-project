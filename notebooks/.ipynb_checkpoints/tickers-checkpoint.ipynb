{
 "cells": [
  {
   "cell_type": "code",
   "execution_count": 13,
   "metadata": {},
   "outputs": [],
   "source": [
    "from selenium import webdriver\n",
    "from bs4 import BeautifulSoup as bs\n",
    "from selenium.webdriver.common.keys import Keys\n",
    "import time"
   ]
  },
  {
   "cell_type": "code",
   "execution_count": 70,
   "metadata": {},
   "outputs": [],
   "source": [
    "DRIVER_PATH = \"C:\\Windows\\chromedriver.exe\"\n",
    "driver = webdriver.Chrome(executable_path=DRIVER_PATH)\n",
    "driver.get('https://www.morningstar.com/')\n",
    "ticker = 'MSFT'\n",
    "\n",
    "driver.find_element_by_xpath('/html/body/div[2]/div/div/div[2]/div[1]/div/header/div/div[1]/div/button').click()\n",
    "time.sleep(5)\n",
    "driver.find_element_by_xpath('/html/body/div[2]/div/div/div[2]/div[1]/div/header/div/div[1]/div/form/div/input').send_keys(ticker)\n",
    "time.sleep(5)\n",
    "driver.find_element_by_xpath('/html/body/div[2]/div/div/div[2]/div[1]/div/header/div/div[1]/div/form/div[2]/div/a').click()\n",
    "time.sleep(5)\n",
    "driver.find_element_by_xpath('/html/body/div[2]/div/div/div[2]/div[3]/main/div[2]/div/div/div[1]/sal-components/section/div/div/div/div/div[2]/div/div/div/div[2]/div[1]/sal-components-segment-band/div/div/mwc-tabs/div/mds-button-group/div/slot/div/mds-button[2]/label/input').click()\n",
    "time.sleep(5)\n",
    "driver.find_element_by_xpath('/html/body/div[2]/div/div/div[2]/div[3]/main/div[2]/div/div/div[1]/sal-components/section/div/div/div/div/div[2]/div/div/div/div[2]/div[2]/div/div[2]/div[1]/a').click()\n",
    "time.sleep(5)\n",
    "driver.switch_to.window(driver.window_handles[1])\n",
    "time.sleep(5)\n",
    "driver.find_element_by_xpath('/html/body/div/div/div[2]/div[1]/div/div/div[2]/div/a').click()"
   ]
  },
  {
   "cell_type": "code",
   "execution_count": 217,
   "metadata": {},
   "outputs": [],
   "source": [
    "html= bs(driver.page_source,\"html.parser\")\n",
    "stocks = html.find_all('a',class_='Fw(600) C($linkColor)')\n",
    "for stock in stocks:\n",
    "    try:\n",
    "        tickers.append(stock.text)\n",
    "    except:\n",
    "        pass"
   ]
  },
  {
   "cell_type": "code",
   "execution_count": 233,
   "metadata": {},
   "outputs": [],
   "source": [
    "import time\n",
    "next_page = True \n",
    "while next_page:\n",
    "    #try:\n",
    "        \n",
    "    html= bs(driver.page_source,\"html.parser\")\n",
    "        \n",
    "    stocks = html.find_all('a',class_='Fw(600) C($linkColor)')\n",
    "       \n",
    "    for stock in stocks:\n",
    "        try:\n",
    "            tickers.append(stock.text)\n",
    "        except:\n",
    "            pass\n",
    "        \n",
    "    time.sleep(5)\n",
    "    next_button = driver.find_element_by_xpath('/html/body/div[1]/div/div/div[1]/div/div[2]/div/div/div[6]/section/div/div[2]/div[2]/button[3]/span/span')\n",
    "    next_button.click()\n",
    "        \n",
    "        \n",
    "#         stocks = html.find('tbody').find_all('tr')\n",
    "\n",
    "#         for stock in stocks:\n",
    "#             tickers.append(stock.td.a.text)\n",
    "    #except:\n",
    "    next_page = False"
   ]
  },
  {
   "cell_type": "code",
   "execution_count": 221,
   "metadata": {},
   "outputs": [],
   "source": [
    "import pandas as pd\n",
    "data = pd.DataFrame({'Indices':tickers})\n",
    "data = data.drop_duplicates()"
   ]
  },
  {
   "cell_type": "code",
   "execution_count": 224,
   "metadata": {},
   "outputs": [],
   "source": [
    "data.to_csv('canada_tickers.csv',index=False)"
   ]
  },
  {
   "cell_type": "code",
   "execution_count": 16,
   "metadata": {},
   "outputs": [],
   "source": [
    "html= bs(driver.page_source,\"html.parser\")\n",
    "tickers = html.find(\"table\", class_=\"table-light border rounded\").find('tbody').find_all('tr')"
   ]
  },
  {
   "cell_type": "code",
   "execution_count": 18,
   "metadata": {},
   "outputs": [
    {
     "data": {
      "text/plain": [
       "'A'"
      ]
     },
     "execution_count": 18,
     "metadata": {},
     "output_type": "execute_result"
    }
   ],
   "source": [
    "tickers[0].find_all('td')[0].text.strip()"
   ]
  },
  {
   "cell_type": "code",
   "execution_count": 19,
   "metadata": {},
   "outputs": [
    {
     "name": "stdout",
     "output_type": "stream",
     "text": [
      "9373\n"
     ]
    }
   ],
   "source": [
    "all_iex_tickers = []\n",
    "for ticker in tickers:\n",
    "    stock_info = ticker.find_all('td')[0]\n",
    "    all_iex_tickers.append(stock_info.text.strip())\n",
    "print(len(all_iex_tickers))"
   ]
  },
  {
   "cell_type": "code",
   "execution_count": 20,
   "metadata": {},
   "outputs": [],
   "source": [
    "import pandas as pd\n",
    "data = pd.DataFrame({'Ticker':all_iex_tickers})\n",
    "data = data.drop_duplicates()"
   ]
  },
  {
   "cell_type": "code",
   "execution_count": 21,
   "metadata": {},
   "outputs": [
    {
     "data": {
      "text/plain": [
       "9373"
      ]
     },
     "execution_count": 21,
     "metadata": {},
     "output_type": "execute_result"
    }
   ],
   "source": [
    "len(data.Ticker)"
   ]
  },
  {
   "cell_type": "code",
   "execution_count": 22,
   "metadata": {},
   "outputs": [],
   "source": [
    "data.to_csv('all_iex_stocks.csv',index=False)"
   ]
  },
  {
   "cell_type": "code",
   "execution_count": null,
   "metadata": {},
   "outputs": [],
   "source": []
  }
 ],
 "metadata": {
  "kernelspec": {
   "display_name": "Python 3",
   "language": "python",
   "name": "python3"
  },
  "language_info": {
   "codemirror_mode": {
    "name": "ipython",
    "version": 3
   },
   "file_extension": ".py",
   "mimetype": "text/x-python",
   "name": "python",
   "nbconvert_exporter": "python",
   "pygments_lexer": "ipython3",
   "version": "3.6.1"
  }
 },
 "nbformat": 4,
 "nbformat_minor": 4
}
